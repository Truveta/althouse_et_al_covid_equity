{
 "cells": [
  {
   "cell_type": "markdown",
   "metadata": {},
   "source": []
  },
  {
   "cell_type": "markdown",
   "metadata": {},
   "source": [
    "# Analyze Data"
   ]
  },
  {
   "cell_type": "code",
   "execution_count": null,
   "metadata": {
    "vscode": {
     "languageId": "r"
    }
   },
   "outputs": [],
   "source": [
    "library(dplyr, warn.conflicts=FALSE)\n",
    "library(ggplot2)\n",
    "library(gtools)\n",
    "library(MASS)\n",
    "library(xtable)\n",
    "library(bit64)\n",
    "library(scales)\n",
    "library(table1)\n",
    "library(patchwork)"
   ]
  },
  {
   "cell_type": "code",
   "execution_count": null,
   "metadata": {
    "vscode": {
     "languageId": "r"
    }
   },
   "outputs": [],
   "source": [
    "here::i_am(\"analysis.ipynb\")"
   ]
  },
  {
   "cell_type": "code",
   "execution_count": null,
   "metadata": {
    "vscode": {
     "languageId": "r"
    }
   },
   "outputs": [],
   "source": [
    "source(here::here('R', 'plot.R'))\n",
    "source(here::here('R', 'io.R'))\n",
    "source(here::here('R', 'check_hashsum.R'))\n",
    "source(here::here('R', 'inverse_probability_weighting.R'))"
   ]
  },
  {
   "cell_type": "markdown",
   "metadata": {},
   "source": [
    "## Load data"
   ]
  },
  {
   "cell_type": "code",
   "execution_count": null,
   "metadata": {
    "vscode": {
     "languageId": "r"
    }
   },
   "outputs": [],
   "source": [
    "data_dir <- here::here('data')\n",
    "results_dir <- here::here('results')"
   ]
  },
  {
   "cell_type": "code",
   "execution_count": null,
   "metadata": {
    "vscode": {
     "languageId": "r"
    }
   },
   "outputs": [],
   "source": [
    "df_file <- file.path(data_dir, 'feature_table.parquet')"
   ]
  },
  {
   "cell_type": "code",
   "execution_count": null,
   "metadata": {
    "vscode": {
     "languageId": "r"
    }
   },
   "outputs": [],
   "source": [
    "df <- read_parquet_table(df_file)"
   ]
  },
  {
   "cell_type": "markdown",
   "metadata": {},
   "source": [
    "## Analyze"
   ]
  },
  {
   "cell_type": "code",
   "execution_count": null,
   "metadata": {
    "vscode": {
     "languageId": "r"
    }
   },
   "outputs": [],
   "source": [
    "dim(df)\n",
    "table(as.numeric(!is.na(df$co_cancer_first_age_in_years)))"
   ]
  },
  {
   "cell_type": "code",
   "execution_count": null,
   "metadata": {
    "vscode": {
     "languageId": "r"
    }
   },
   "outputs": [],
   "source": [
    "df2 <- \n",
    "  df %>%\n",
    "  dplyr::mutate(\n",
    "    co_diabetes_first_age_in_years = as.numeric(!is.na(co_diabetes_first_age_in_years)),\n",
    "    co_hypertension_first_age_in_years = as.numeric(!is.na(co_hypertension_first_age_in_years)),\n",
    "    co_ckd_first_age_in_years = as.numeric(!is.na(co_ckd_first_age_in_years)),\n",
    "    co_liver_disease_first_age_in_years = as.numeric(!is.na(co_liver_disease_first_age_in_years)),\n",
    "    co_cancer_first_age_in_years = as.numeric(!is.na(co_cancer_first_age_in_years)),\n",
    "      co_immunocompromised_first_age_in_years = as.numeric(!is.na(co_immunocompromised_first_age_in_years)),\n",
    "      co_hiv_first_age_in_years = as.numeric(!is.na(co_hiv_first_age_in_years)),\n",
    "    vital_last_oxygen_value = as.numeric(vital_last_oxygen_value)\n",
    "  ) %>%\n",
    "  as.data.frame()\n",
    "\n",
    "# the warning is from vital_last_oxygen_value\n",
    "# it is ignorable"
   ]
  },
  {
   "cell_type": "code",
   "execution_count": null,
   "metadata": {
    "vscode": {
     "languageId": "r"
    }
   },
   "outputs": [],
   "source": [
    "#head(df2$co_liver_disease_first_age_in_years)\n",
    "dim(df2)\n",
    "dim(df2[df2$encounter_class %in% \"inpatient encounter\",])\n",
    "length(which(df2$encounter_class %in% \"inpatient encounter\"))\n"
   ]
  },
  {
   "cell_type": "code",
   "execution_count": null,
   "metadata": {
    "vscode": {
     "languageId": "r"
    }
   },
   "outputs": [],
   "source": [
    "# --- make race a factor and relevel to white as baseline\n",
    "df2$race.factor <- relevel(factor(df2$race), \"White\")\n",
    "\n",
    "# --- indicator for AA/white\n",
    "df2$aa.black <- as.numeric(df2$race%in%\"Black or African American\")\n",
    "df2$white <- as.numeric(df2$race%in%\"White\")\n",
    "\n",
    "\n",
    "# --- make ages into years\n",
    "df2$age.years <- (df2$matched_age) / 60 / 60 / 24 / 365\n",
    "\n",
    "# --- mean centered age\n",
    "df2$age.years.centered <- (df2$age.years-mean(df2$age.years))#/sd(df2$age.years)\n",
    "\n",
    "# --- comorbidities into yes/no\n",
    "df2$copd.ever <- !is.na(df2$co_chronic_pulmonary_disease_first_age_in_years)\n",
    "\n",
    "df2$ckd.ever <- !is.na(df2$co_ckd_first_age)\n",
    "\n",
    "df2$liver.ever <- !is.na(df2$co_liver_disease_first_age)\n",
    "\n",
    "# --- remdesivir into yes/no\n",
    "df2$remdesivir.yes <- as.numeric(!is.na(df2$med_remdesivir_age_group))\n",
    "\n",
    "# --- azithromycin into yes/no\n",
    "df2$azithromycin.yes <- as.numeric(!is.na(df2$med_azithromycin_age_group))\n",
    "\n"
   ]
  },
  {
   "cell_type": "code",
   "execution_count": null,
   "metadata": {},
   "outputs": [],
   "source": [
    "inpatient <- \n",
    "  df2 %>% \n",
    "  dplyr::filter(encounter_class %in% c('inpatient encounter', 'observation encounter'))"
   ]
  },
  {
   "cell_type": "markdown",
   "metadata": {},
   "source": [
    "## Table 1"
   ]
  },
  {
   "cell_type": "code",
   "execution_count": null,
   "metadata": {
    "tags": []
   },
   "outputs": [],
   "source": [
    "for_t1 <-\n",
    "  inpatient |> \n",
    "  dplyr::rename(remdesivir = remdesivir.yes) |>\n",
    "  dplyr::mutate(\n",
    "    remdesivir = dplyr::if_else(remdesivir == 1, TRUE, FALSE),\n",
    "    matched_age_group = \n",
    "      dplyr::if_else(matched_age_group == '[5,10)', '[05,10)', matched_age_group),\n",
    "    dplyr::across(\n",
    "      c(\n",
    "        co_cancer_first_age, \n",
    "        co_diabetes_first_age,\n",
    "        co_hypertension_first_age, \n",
    "        co_ckd_first_age,\n",
    "        co_liver_disease_first_age, \n",
    "        co_immunocompromised_first_age\n",
    "      ), \n",
    "      ~ dplyr::if_else(is.na(.x), FALSE, TRUE)\n",
    "    ),\n",
    "    population = stringr::str_to_sentence(population),\n",
    "    population = factor(population, levels = c('Wild', 'Dec2020', 'Delta', 'Omicron'))\n",
    "  ) |>\n",
    "  dplyr::rename_with(\n",
    "    .cols = \n",
    "      c(\n",
    "        co_cancer_first_age, \n",
    "        co_diabetes_first_age,\n",
    "        co_hypertension_first_age, \n",
    "        co_ckd_first_age, \n",
    "        co_liver_disease_first_age, \n",
    "        co_immunocompromised_first_age\n",
    "      ), \n",
    "    .fn = ~ stringr::str_remove(., '_first_age')\n",
    "  ) |>\n",
    "  dplyr::select(\n",
    "    population,\n",
    "    remdesivir,\n",
    "    sex,\n",
    "    race, \n",
    "    ethnicity, \n",
    "    matched_age_group, \n",
    "    co_cancer,\n",
    "    co_ckd, \n",
    "    co_diabetes,\n",
    "    co_hypertension, \n",
    "    co_liver_disease, \n",
    "    co_immunocompromised\n",
    "  )"
   ]
  },
  {
   "cell_type": "code",
   "execution_count": null,
   "metadata": {},
   "outputs": [],
   "source": [
    "# give nice labels to everything\n",
    "\n",
    "label(for_t1$population) <- 'COVID Wave'\n",
    "label(for_t1$remdesivir) <- 'Treated with Remdesivir'\n",
    "label(for_t1$sex) <- 'Sex'\n",
    "label(for_t1$race) <- 'Race'\n",
    "label(for_t1$ethnicity) <- 'Ethnicity'\n",
    "label(for_t1$matched_age_group) <- 'Age bracket'\n",
    "label(for_t1$co_cancer) <- 'Cancer'\n",
    "label(for_t1$co_ckd) <- 'Chronic kidney disease (CKD)'\n",
    "label(for_t1$co_diabetes) <- 'Diabetes'\n",
    "label(for_t1$co_hypertension) <- 'Hypertension'\n",
    "label(for_t1$co_liver_disease) <- 'Liver disease'\n",
    "label(for_t1$co_immunocompromised) <- 'Immunocompromised'"
   ]
  },
  {
   "cell_type": "code",
   "execution_count": null,
   "metadata": {},
   "outputs": [],
   "source": [
    "# make a table\n",
    "\n",
    "tab1 <- \n",
    "  table1(\n",
    "    ~ sex +\n",
    "      race + \n",
    "      ethnicity + \n",
    "      matched_age_group + \n",
    "      remdesivir + \n",
    "      co_cancer + \n",
    "      co_ckd + \n",
    "      co_diabetes +\n",
    "      co_hypertension + \n",
    "      co_liver_disease + \n",
    "      co_immunocompromised |\n",
    "      population, \n",
    "    data = for_t1, \n",
    "    overall = 'Overall'\n",
    "  )"
   ]
  },
  {
   "cell_type": "code",
   "execution_count": null,
   "metadata": {},
   "outputs": [],
   "source": [
    "as.data.frame(tab1)\n",
    "write.csv(\n",
    "  as.data.frame(tab1, make.names = FALSE), \n",
    "  file = here::here('results', 'table_one_inpatient.csv'), \n",
    "  row.names = FALSE\n",
    ")"
   ]
  },
  {
   "cell_type": "code",
   "execution_count": null,
   "metadata": {},
   "outputs": [],
   "source": [
    "xtab_1 <- xtable::xtable(as.data.frame(tab1, make.names = FALSE))\n",
    "print.xtable(\n",
    "  xtab_1, \n",
    "  type = 'latex', \n",
    "  file = here::here('results', 'table_1_inpatient.tex'), \n",
    "  include.rownames = FALSE\n",
    ")"
   ]
  },
  {
   "cell_type": "code",
   "execution_count": null,
   "metadata": {},
   "outputs": [],
   "source": []
  },
  {
   "cell_type": "markdown",
   "metadata": {},
   "source": [
    "## histogram of age distributions"
   ]
  },
  {
   "cell_type": "code",
   "execution_count": null,
   "metadata": {},
   "outputs": [],
   "source": [
    "for_age_hist <- \n",
    "  inpatient |>    \n",
    "  dplyr::filter(race %in% c(\"White\", \"Black or African American\")) |>\n",
    "  dplyr::mutate(\n",
    "    matched_age_group = \n",
    "      dplyr::if_else(matched_age_group == '[5,10)', '[05,10)', matched_age_group),\n",
    "    population = stringr::str_to_sentence(population),\n",
    "    population = factor(population, levels = c('Wild', 'Dec2020', 'Delta', 'Omicron'))\n",
    "  )\n",
    "\n",
    "age_hist <- \n",
    "  for_age_hist |>\n",
    "  dplyr::group_by(race, matched_age_group) |>\n",
    "  dplyr::count(name = 'count') |>\n",
    "  dplyr::group_by(race) |>\n",
    "  dplyr::mutate(freq = count / sum(count)) |>\n",
    "  ggplot(aes(x = matched_age_group, y = freq)) +\n",
    "  geom_bar(stat = 'identity') +\n",
    "  facet_wrap(~ race, ncol = 1) +\n",
    "  theme_truveta() +\n",
    "  theme(\n",
    "    axis.text.x = element_text(colour = 'black', angle = 45, vjust = 1.5, hjust = 1)\n",
    "  ) +\n",
    "  labs(x = 'Age bin (years)', y = 'Frequency')\n",
    "\n",
    "age_hist\n",
    "\n",
    "ggsave(\n",
    "  plot = age_hist, \n",
    "  filename = file.path(results_dir, 'age_distribution_inpatient.pdf'),\n",
    "  width = 6,\n",
    "  height = 6\n",
    ")"
   ]
  },
  {
   "cell_type": "code",
   "execution_count": null,
   "metadata": {},
   "outputs": [],
   "source": [
    "for_age_wave_hist <- \n",
    "  for_age_hist |>\n",
    "  dplyr::mutate(\n",
    "    population = factor(population, levels = c('Wild', 'Dec2020', 'Delta', 'Omicron'))\n",
    "  ) |>\n",
    "  dplyr::group_by(population, race, matched_age_group) |>\n",
    "  dplyr::count(name = 'count') |> \n",
    "  dplyr::group_by(population, race) |>\n",
    "  dplyr::mutate(freq = count / sum(count))"
   ]
  },
  {
   "cell_type": "code",
   "execution_count": null,
   "metadata": {},
   "outputs": [],
   "source": [
    "age_wave_race_hist <- \n",
    "  for_age_wave_hist |>\n",
    "  ggplot(aes(x = matched_age_group, y = freq)) +\n",
    "  geom_bar(stat = 'identity') +\n",
    "  facet_grid(race ~ population, scales = 'free_y', switch = 'y') +\n",
    "  theme_truveta() +\n",
    "  theme(\n",
    "    axis.text.x = element_text(size = 7, angle = 90, vjust = 0.5, hjust=1),\n",
    "    strip.placement = 'outside'\n",
    "  ) +\n",
    "  labs(x = 'Age bin (years)', y = 'Frequency')\n",
    "\n",
    "age_wave_race_hist\n",
    "\n",
    "ggsave(\n",
    "  plot = age_wave_race_hist, \n",
    "  filename = file.path(results_dir, 'age_race_wave_distribution_inpatient.pdf'),\n",
    "  width = 10,\n",
    "  height = 5\n",
    ")"
   ]
  },
  {
   "cell_type": "markdown",
   "metadata": {},
   "source": [
    "### remdesivir just inpatient w/ small list of predictors"
   ]
  },
  {
   "cell_type": "code",
   "execution_count": null,
   "metadata": {},
   "outputs": [],
   "source": [
    "pred <- c('race.factor', 'sex', 'age.years')"
   ]
  },
  {
   "cell_type": "markdown",
   "metadata": {},
   "source": [
    "## logistic regression"
   ]
  },
  {
   "cell_type": "code",
   "execution_count": null,
   "metadata": {},
   "outputs": [],
   "source": [
    "logistic_med_pop <- function(df, which_med, which_population, predictors) {\n",
    "    \n",
    "  data <- \n",
    "    df %>%\n",
    "    dplyr::filter(\n",
    "      population == which_population,\n",
    "      !is.na(race)\n",
    "    ) %>%\n",
    "    dplyr::mutate(y = as.numeric(!is.na({{ which_med }}))) %>%\n",
    "    dplyr::select(y, dplyr::all_of({{ predictors }}))\n",
    "  \n",
    "  mod <- glm(y ~ ., data = na.omit(data), family = 'binomial')\n",
    "  #mod.step <- step(mod)\n",
    "\n",
    "  mod_summary <- summary(mod)\n",
    "\n",
    "  mod_coef <- cbind(exp(coef(mod)), exp(confint(mod)))\n",
    "  mod_coef_xtable <- xtable::xtable(mod_coef)\n",
    "\n",
    "  #mod_step_coef <- cbind(exp(coef(mod.step)), exp(confint(mod.step)))\n",
    "  \n",
    "  out <- \n",
    "    list(\n",
    "      mod = mod, \n",
    "      summary = mod_summary, \n",
    "      coef = mod_coef, \n",
    "      coef_xtable = mod_coef_xtable#,\n",
    "      #step_coef = mod_step_coef\n",
    "    )\n",
    "\n",
    "  out\n",
    "}"
   ]
  },
  {
   "cell_type": "code",
   "execution_count": null,
   "metadata": {},
   "outputs": [],
   "source": [
    "pred <- c('race.factor', 'sex', 'age.years')"
   ]
  },
  {
   "cell_type": "code",
   "execution_count": null,
   "metadata": {},
   "outputs": [],
   "source": [
    "wild_remdesivir_inpatient <- logistic_med_pop(inpatient, med_remdesivir_age_group, 'wild', pred)\n",
    "\n",
    "write.csv(\n",
    "  wild_remdesivir_inpatient$coef, \n",
    "  file.path(results_dir, 'wild_remdesivir_coef_inpatient.csv')\n",
    ")\n",
    "\n",
    "print.xtable(\n",
    "  wild_remdesivir_inpatient$coef_xtable, \n",
    "  file = file.path(results_dir, 'wild_remdesivir_coef_inpatient.tex')\n",
    ")\n",
    "\n",
    "print(wild_remdesivir_inpatient$coef_xtable)"
   ]
  },
  {
   "cell_type": "code",
   "execution_count": null,
   "metadata": {},
   "outputs": [],
   "source": [
    "dec2020_remdesivir_inpatient <- logistic_med_pop(inpatient, med_remdesivir_age_group, 'dec2020', pred)\n",
    "\n",
    "write.csv(\n",
    "  dec2020_remdesivir_inpatient$coef, \n",
    "  file.path(results_dir, 'dec2020_remdesivir_coef_inpatient.csv')\n",
    ")\n",
    "\n",
    "print.xtable(\n",
    "  dec2020_remdesivir_inpatient$coef_xtable, \n",
    "  file = file.path(results_dir, 'dec2020_remdesivir_coef_inpatient.tex')\n",
    ")\n",
    "\n",
    "print(dec2020_remdesivir_inpatient$coef_xtable)"
   ]
  },
  {
   "cell_type": "code",
   "execution_count": null,
   "metadata": {},
   "outputs": [],
   "source": [
    "delta_remdesivir_inpatient <- logistic_med_pop(inpatient, med_remdesivir_age_group, 'delta', pred)\n",
    "\n",
    "write.csv(\n",
    "  delta_remdesivir_inpatient$coef, \n",
    "  file.path(results_dir, 'delta_remdesivir_coef_inpatient.csv')\n",
    ")\n",
    "\n",
    "print.xtable(\n",
    "  delta_remdesivir_inpatient$coef_xtable, \n",
    "  file = file.path(results_dir, 'delta_remdesivir_coef_inpatient.tex')\n",
    ")\n",
    "\n",
    "print(delta_remdesivir_inpatient$coef_xtable)"
   ]
  },
  {
   "cell_type": "code",
   "execution_count": null,
   "metadata": {},
   "outputs": [],
   "source": [
    "omicron_remdesivir_inpatient <- logistic_med_pop(inpatient, med_remdesivir_age_group, 'omicron', pred)\n",
    "\n",
    "write.csv(\n",
    "  omicron_remdesivir_inpatient$coef, \n",
    "  file.path(results_dir, 'omicron_remdesivir_coef_inpatient.csv')\n",
    ")\n",
    "\n",
    "print.xtable(\n",
    "  omicron_remdesivir_inpatient$coef_xtable, \n",
    "  file = file.path(results_dir, 'omicron_remdesivir_coef_inpatient.tex')\n",
    ")\n",
    "\n",
    "print(omicron_remdesivir_inpatient$coef_xtable)"
   ]
  },
  {
   "cell_type": "code",
   "execution_count": null,
   "metadata": {},
   "outputs": [],
   "source": [
    "# tab.omicron == omicron_remdesivir_large$coef\n",
    "tt <- \n",
    "  cbind(#wild_azithromycin_large$coef,\n",
    "        omicron_remdesivir_inpatient$coef,\n",
    "        delta_remdesivir_inpatient$coef,\n",
    "        omicron_remdesivir_inpatient$coef)\n",
    "\n",
    "\n",
    "# base plotting\n",
    "pdf(file.path(results_dir, \"logistic_regressions_inpatient.pdf\"), 4,4)\n",
    "par(oma=c(2,2,0,0), tck = 0.01, cex.axis=0.65, mgp = c(2,.5,0), mar = c(0.5,0.5,0.5,0.5))\n",
    "x <- barplot(tt[4,c(1,4,7)], ylim=c(0,1.25))\n",
    "abline(h=1, lty=2)\n",
    "segments(rep(x,3), tt[4,c(2,5,8)], rep(x,3), tt[4,c(3,6,9)])\n",
    "text(x, -.05, c(\"Dec. 2020\",\"Delta\",\"Omicron\"), srt=45, xpd=NA, cex=1.25, pos=2)\n",
    "mtext(\"OR remdesivir treatment\",2, line=2)\n",
    "dev.off()\n"
   ]
  },
  {
   "cell_type": "markdown",
   "metadata": {},
   "source": [
    "### Remdesivir inpatient + additional predictors"
   ]
  },
  {
   "cell_type": "code",
   "execution_count": null,
   "metadata": {},
   "outputs": [],
   "source": [
    "pred_rem_large <- c(\"race.factor\",\n",
    "                    \"sex\",\n",
    "                    \"age.years\",\n",
    "                    \"co_diabetes_first_age_in_years\",\n",
    "                    \"co_hypertension_first_age_in_years\",\n",
    "                    \"co_ckd_first_age_in_years\",\n",
    "                    \"co_liver_disease_first_age_in_years\",\n",
    "                    \"co_immunocompromised_first_age_in_years\",\n",
    "                   \"co_cancer_first_age_in_years\")\n",
    "\n"
   ]
  },
  {
   "cell_type": "code",
   "execution_count": null,
   "metadata": {},
   "outputs": [],
   "source": [
    "summary_race_age_inpatient <- \n",
    "  inpatient |> \n",
    "  dplyr::filter(race %in% c('White', 'Black or African American')) |> \n",
    "  dplyr::group_by(race) |>\n",
    "  dplyr::summarize(\n",
    "    age_median = median(age.years),\n",
    "    iqr_age = IQR(age.years),\n",
    "    age_q25 = quantile(age.years, 0.25),\n",
    "    age_q75 = quantile(age.years, 0.75)\n",
    "  )\n",
    "\n",
    "write.csv(summary_race_age_inpatient, file = file.path(results_dir, 'summary_race_age_inpatient.csv'))"
   ]
  },
  {
   "cell_type": "code",
   "execution_count": null,
   "metadata": {
    "tags": []
   },
   "outputs": [],
   "source": [
    "# ---------- calculate ecdfs\n",
    "sample1 <- inpatient$age.years[inpatient$aa.black==1]\n",
    "sample2 <- inpatient$age.years[inpatient$white==1]\n",
    "group <- c(rep(\"AA.or.black\", length(sample1)), rep(\"White\", length(sample2)))\n",
    "dat <- data.frame(KSD = c(sample1, sample2), group = group)\n",
    "# create ECDF of data\n",
    "cdf1 <- ecdf(sample1)\n",
    "cdf2 <- ecdf(sample2)\n",
    "\n",
    "# find min and max statistics to draw line between points of greatest distance\n",
    "minMax <- seq(min(sample1, sample2), max(sample1, sample2), length.out=length(sample1)) \n",
    "x0 <- minMax[which( abs(cdf1(minMax) - cdf2(minMax)) == max(abs(cdf1(minMax) - cdf2(minMax))) )] \n",
    "y0 <- cdf1(x0)\n",
    "y1 <- cdf2(x0)"
   ]
  },
  {
   "cell_type": "code",
   "execution_count": null,
   "metadata": {},
   "outputs": [],
   "source": [
    "# ---- plots\n",
    "plot(cdf1, col=\"black\") \n",
    "lines(cdf2, col=\"red\") \n",
    "\n",
    "points(c(x0, x0), c(y0, y1), pch=16, col=\"red\") \n",
    "segments(x0, y0, x0, y1, col=\"red\", lty=\"dotted\") \n",
    "\n",
    "\n",
    "# ---- do a KS test b/w groups\n",
    "ks_results <- ks.test(sample1, sample2, alternative = \"greater\")\n",
    "\n",
    "\n",
    "# ---- compare medians\n",
    "round(quantile(sample1, c(0.5, 0.25, 0.75)), 1)\n",
    "round(quantile(sample2, c(0.5, 0.25, 0.75)), 1)"
   ]
  },
  {
   "cell_type": "code",
   "execution_count": null,
   "metadata": {},
   "outputs": [],
   "source": [
    "ks_tidy <- broom::tidy(ks_results)\n",
    "\n",
    "write.csv(ks_tidy, file = file.path(results_dir, 'ks_race_results_inpatient.csv'))"
   ]
  },
  {
   "cell_type": "code",
   "execution_count": null,
   "metadata": {},
   "outputs": [],
   "source": [
    "# colnames(inpatient)"
   ]
  },
  {
   "cell_type": "markdown",
   "metadata": {},
   "source": [
    "### race + population comorbidity counts + fractions\n",
    "\n",
    "i hate having to roll my own solution here, but couldn't figure out gtsummary solution quick enough"
   ]
  },
  {
   "cell_type": "code",
   "execution_count": null,
   "metadata": {},
   "outputs": [],
   "source": [
    "# prepare to summarize race X population X comorbidity summary\n",
    "race_wave_comorbid_prep <- \n",
    "  inpatient |> \n",
    "  dplyr::rename(\n",
    "    cancer = co_cancer_first_age,\n",
    "    ckd = co_ckd_first_age,\n",
    "    diabetes = co_diabetes_first_age,\n",
    "    hypertension = co_hypertension_first_age,\n",
    "    liver_disease = co_liver_disease_first_age,\n",
    "    immunocompromised = co_immunocompromised_first_age\n",
    "  ) |>\n",
    "  dplyr::select(race, population, cancer, ckd, diabetes, hypertension, liver_disease, immunocompromised) |>\n",
    "  dplyr::mutate(\n",
    "    dplyr::across(\n",
    "      cancer:immunocompromised, \n",
    "      ~ dplyr::if_else(is.na(.x), FALSE, TRUE)\n",
    "    ),\n",
    "    population = factor(population, levels = c('wild', 'dec2020', 'delta', 'omicron'))\n",
    "  ) |>\n",
    "  dplyr::filter(race %in% c(\"White\", \"Black or African American\"))"
   ]
  },
  {
   "cell_type": "code",
   "execution_count": null,
   "metadata": {},
   "outputs": [],
   "source": [
    "# first, ignore population and do overall\n",
    "\n",
    "race_comorbid_fraction <- \n",
    "  race_wave_comorbid_prep |>\n",
    "  group_by(race) |> \n",
    "  dplyr::summarize(\n",
    "    dplyr::across(\n",
    "      cancer:immunocompromised, \n",
    "      ~ round(sum(.x) / n(), 4)\n",
    "    ),\n",
    "    .groups = 'drop'\n",
    "  ) |> \n",
    "  tidyr::pivot_longer(\n",
    "    cols = cancer:immunocompromised, \n",
    "    names_to = 'comorbidity', \n",
    "    values_to = 'fraction'\n",
    "  ) |>\n",
    "  dplyr::mutate(\n",
    "    comorbidity = stringr::str_replace(comorbidity, '_', ' '),\n",
    "    comorbidity = stringr::str_to_sentence(comorbidity),\n",
    "    comorbidity = dplyr::if_else(comorbidity == 'Ckd', 'CKD', comorbidity)\n",
    "  )\n",
    "\n",
    "race_comorbid_count <- \n",
    "  race_wave_comorbid_prep |>\n",
    "  group_by(race) |> \n",
    "  dplyr::summarize(\n",
    "    dplyr::across(\n",
    "      cancer:immunocompromised, \n",
    "      ~ sum(.x)\n",
    "    ),\n",
    "    .groups = 'drop'\n",
    "  ) |> \n",
    "  tidyr::pivot_longer(\n",
    "    cols = cancer:immunocompromised, \n",
    "    names_to = 'comorbidity', \n",
    "    values_to = 'count'\n",
    "  ) |>\n",
    "  dplyr::mutate(\n",
    "    comorbidity = stringr::str_replace(comorbidity, '_', ' '),\n",
    "    comorbidity = stringr::str_to_sentence(comorbidity),\n",
    "    comorbidity = dplyr::if_else(comorbidity == 'Ckd', 'CKD', comorbidity)\n",
    "  )"
   ]
  },
  {
   "cell_type": "code",
   "execution_count": null,
   "metadata": {},
   "outputs": [],
   "source": [
    "# combine count and fraction into single table\n",
    "race_comorbid_summary <- \n",
    "  inner_join(\n",
    "    race_comorbid_fraction, \n",
    "    race_comorbid_count,\n",
    "    by = c('race' = 'race', 'comorbidity' = 'comorbidity')\n",
    "  ) |>\n",
    "  dplyr::rename(\n",
    "    Race = race,\n",
    "    Comorbidity = comorbidity\n",
    "  ) |>\n",
    "  dplyr::mutate(\n",
    "    Overall = paste0(count, ' (', fraction * 100, '%)')\n",
    "  ) |>\n",
    "  dplyr::select(-(count:fraction))\n",
    "\n",
    "race_comorbid_summary\n",
    "\n",
    "write.csv(\n",
    "  race_comorbid_summary, \n",
    "  file = file.path(results_dir, 'race_comorbid_summary_inpatient.csv')\n",
    ")\n",
    "\n",
    "print.xtable(\n",
    "  xtable::xtable(race_comorbid_summary, make.names = FALSE),\n",
    "  type = 'latex', \n",
    "  file = file.path(results_dir, 'race_comorbid_summary_inpatient.tex'), \n",
    "  include.rownames = FALSE\n",
    ")"
   ]
  },
  {
   "cell_type": "code",
   "execution_count": null,
   "metadata": {},
   "outputs": [],
   "source": [
    "# fraction with comorbidity by race and population\n",
    "race_wave_comorbid_fraction <-\n",
    "  race_wave_comorbid_prep |>\n",
    "  dplyr::group_by(race, population) |>\n",
    "  dplyr::summarize(\n",
    "    dplyr::across(\n",
    "      cancer:immunocompromised, \n",
    "      ~ round(sum(.x) / n(), 4)\n",
    "    ),\n",
    "    .groups = 'drop'\n",
    "  ) \n",
    "\n",
    "race_wave_comorbid_fraction_summary <- \n",
    "  race_wave_comorbid_fraction |> \n",
    "  tidyr::pivot_longer(\n",
    "    cols = cancer:immunocompromised, \n",
    "    names_to = 'comorbidity', \n",
    "    values_to = 'fraction'\n",
    "  ) |>\n",
    "  tidyr::pivot_wider(names_from = population, values_from = fraction) |>\n",
    "  dplyr::mutate(\n",
    "    comorbidity = stringr::str_replace(comorbidity, '_', ' '),\n",
    "    comorbidity = stringr::str_to_sentence(comorbidity),\n",
    "    comorbidity = dplyr::if_else(comorbidity == 'Ckd', 'CKD', comorbidity)\n",
    "  )\n",
    "\n",
    "# count with comorbidity by race and population\n",
    "race_wave_comorbid_count <-\n",
    "  race_wave_comorbid_prep |>\n",
    "  dplyr::group_by(race, population) |>\n",
    "  dplyr::summarize(\n",
    "    dplyr::across(\n",
    "      cancer:immunocompromised, \n",
    "      ~ sum(.x)\n",
    "    ),\n",
    "    .groups = 'drop'\n",
    "  ) \n",
    "\n",
    "race_wave_comorbid_count_summary <- \n",
    "  race_wave_comorbid_count |> \n",
    "  tidyr::pivot_longer(\n",
    "    cols = cancer:immunocompromised, \n",
    "    names_to = 'comorbidity', \n",
    "    values_to = 'count'\n",
    "  ) |>\n",
    "  tidyr::pivot_wider(names_from = population, values_from = count) |>\n",
    "  dplyr::mutate(\n",
    "    comorbidity = stringr::str_replace(comorbidity, '_', ' '),\n",
    "    comorbidity = stringr::str_to_sentence(comorbidity),\n",
    "    comorbidity = dplyr::if_else(comorbidity == 'Ckd', 'CKD', comorbidity)\n",
    "  )"
   ]
  },
  {
   "cell_type": "code",
   "execution_count": null,
   "metadata": {},
   "outputs": [],
   "source": [
    "# combine count and fraction into single table\n",
    "race_wave_comorbid_summary <- \n",
    "  inner_join(\n",
    "    race_wave_comorbid_count_summary, \n",
    "    race_wave_comorbid_fraction_summary, \n",
    "    by = c('race' = 'race', 'comorbidity' = 'comorbidity')\n",
    "  ) |>\n",
    "  dplyr::rename(\n",
    "    Race = race,\n",
    "    Comorbidity = comorbidity\n",
    "  ) |>\n",
    "  dplyr::mutate(\n",
    "    Wild = paste0(wild.x, ' (', wild.y * 100, '%)'),\n",
    "    `Dec. 2020` = paste0(dec2020.x, ' (', dec2020.y * 100, '%)'),\n",
    "    Delta = paste0(delta.x, ' (', delta.y * 100, '%)'),\n",
    "    Omicron = paste0(omicron.x, ' (', omicron.y * 100, '%)')\n",
    "  ) |>\n",
    "  dplyr::select(-(wild.x:omicron.y))\n",
    "\n",
    "race_wave_comorbid_summary\n",
    "\n",
    "write.csv(\n",
    "  race_wave_comorbid_summary, \n",
    "  file = file.path(results_dir, 'race_wave_comorbid_summary_inpatient.csv')\n",
    ")\n",
    "\n",
    "print.xtable(\n",
    "  xtable::xtable(race_wave_comorbid_summary, make.names = FALSE),\n",
    "  type = 'latex', \n",
    "  file = file.path(results_dir, 'race_wave_comorbid_summary_inpatient.tex'), \n",
    "  include.rownames = FALSE\n",
    ")"
   ]
  },
  {
   "cell_type": "code",
   "execution_count": null,
   "metadata": {},
   "outputs": [],
   "source": [
    "table_2 <- \n",
    "  dplyr::inner_join(\n",
    "    race_wave_comorbid_summary, \n",
    "    race_comorbid_summary, \n",
    "    by = c('Race' = 'Race', 'Comorbidity' = 'Comorbidity')\n",
    "  ) |> \n",
    "  dplyr::arrange(Comorbidity)\n",
    "\n",
    "table_2\n",
    "\n",
    "write.csv(\n",
    "  table_2, \n",
    "  file = file.path(results_dir, 'table_2_inpatient.csv')\n",
    ")\n",
    "\n",
    "print.xtable(\n",
    "  xtable::xtable(table_2, make.names = FALSE),\n",
    "  type = 'latex', \n",
    "  file = file.path(results_dir, 'table_2_inpatient.tex'), \n",
    "  include.rownames = FALSE\n",
    ")"
   ]
  },
  {
   "cell_type": "code",
   "execution_count": null,
   "metadata": {},
   "outputs": [],
   "source": []
  },
  {
   "cell_type": "code",
   "execution_count": null,
   "metadata": {},
   "outputs": [],
   "source": [
    "# ---- some summary plots\n",
    "\n",
    "\n",
    "# ----- comorbidities by AA/white\n",
    "summary_table_cov <- \n",
    "  c(\n",
    "    \"sex\",\n",
    "    \"co_diabetes_first_age_in_years\",\n",
    "    \"co_hypertension_first_age_in_years\",\n",
    "    \"co_ckd_first_age_in_years\",\n",
    "    \"co_liver_disease_first_age_in_years\",\n",
    "    \"co_immunocompromised_first_age_in_years\",\n",
    "    \"co_cancer_first_age_in_years\"\n",
    "  )\n",
    "\n",
    "\n",
    "com.tab.aa.black <- c()\n",
    "for (i in 1:length(summary_table_cov)){\n",
    "    com.tab.aa.black <- rbind(com.tab.aa.black, table(inpatient$aa.black, inpatient[,summary_table_cov[i]])[2,])\n",
    "}\n",
    "aa.black.tab <- paste0(round(com.tab.aa.black[,2]/rowSums(com.tab.aa.black)*100,1),\"%\")\n",
    "names(aa.black.tab) <- summary_table_cov\n",
    "aa.black.tab\n",
    "\n",
    "com.tab.white <- c()\n",
    "for (i in 1:length(summary_table_cov)){\n",
    "    com.tab.white <- rbind(com.tab.white, table(inpatient$white, inpatient[,summary_table_cov[i]])[2,])\n",
    "}\n",
    "white.tab <- paste0(round(com.tab.white[,2]/rowSums(com.tab.white)*100,1),\"%\")\n",
    "names(white.tab) <- summary_table_cov\n",
    "white.tab\n",
    "\n",
    "cbind(aa.black.tab, white.tab)"
   ]
  },
  {
   "cell_type": "code",
   "execution_count": null,
   "metadata": {},
   "outputs": [],
   "source": [
    "# ----- now do some t-tests b/w groups\n",
    "t.tab.white <- com.tab.white\n",
    "t.tab.aa.black <- com.tab.aa.black\n",
    "t.tab.white[,1] <- rowSums(com.tab.white)\n",
    "t.tab.aa.black[,1] <- rowSums(com.tab.aa.black)\n",
    "\n",
    "\n",
    "t.tab <- c()\n",
    "for (i in 1:length(summary_table_cov)){\n",
    "    t.tab <- c(t.tab, t.test(t.tab.aa.black[i,], t.tab.white[i,])$p.value)\n",
    "}\n",
    "\n",
    "\n",
    "comorbid.table <- cbind(paste0(round(t.tab.aa.black[,2]/t.tab.aa.black[,1]*100,1),\"%\"), white.tab, round(t.tab, 3))\n",
    "colnames(comorbid.table) <- c(\"AA and black\", \"White\", \"p value\")\n",
    "rownames(comorbid.table) <- gsub(\"_\",\" \",gsub(\"co_\",\"\",gsub(\"_first_age_in_years\",\"\",summary_table_cov)))\n",
    "comorbid.table\n",
    "\n",
    "\n",
    "print.xtable(\n",
    "  comorbid.table, \n",
    "  file = file.path(results_dir, 'comorbid_summary_table_inpatient.tex')\n",
    ")"
   ]
  },
  {
   "cell_type": "code",
   "execution_count": null,
   "metadata": {},
   "outputs": [],
   "source": []
  },
  {
   "cell_type": "code",
   "execution_count": null,
   "metadata": {},
   "outputs": [],
   "source": []
  },
  {
   "cell_type": "code",
   "execution_count": null,
   "metadata": {},
   "outputs": [],
   "source": []
  },
  {
   "cell_type": "code",
   "execution_count": null,
   "metadata": {},
   "outputs": [],
   "source": [
    "wild_remdesivir_large <- logistic_med_pop(inpatient, med_remdesivir_age_group, 'wild', pred_rem_large)\n",
    "\n",
    "write.csv(\n",
    "  wild_remdesivir_large$coef, \n",
    "  file.path(results_dir, 'wild_remdesivir_coef_inpatient_large_inpatient.csv')\n",
    ")\n",
    "\n",
    "print.xtable(\n",
    "  wild_remdesivir_large$coef_xtable, \n",
    "  file = file.path(results_dir, 'wild_remdesivir_coef_inpatient_large_inpatient.tex')\n",
    ")\n",
    "\n",
    "wild_remdesivir_large$coef"
   ]
  },
  {
   "cell_type": "code",
   "execution_count": null,
   "metadata": {},
   "outputs": [],
   "source": [
    "dec2020_remdesivir_large <- logistic_med_pop(inpatient, med_remdesivir_age_group, 'dec2020', pred_rem_large)\n",
    "\n",
    "write.csv(\n",
    "  dec2020_remdesivir_large$coef, \n",
    "  file.path(results_dir, 'dec2020_remdesivir_coef_inpatient_large_inpatient.csv')\n",
    ")\n",
    "\n",
    "print.xtable(\n",
    "  dec2020_remdesivir_large$coef_xtable, \n",
    "  file = file.path(results_dir, 'dec2020_remdesivir_coef_inpatient_large_inpatient.tex')\n",
    ")\n",
    "\n",
    "print(dec2020_remdesivir_large$coef_xtable)"
   ]
  },
  {
   "cell_type": "code",
   "execution_count": null,
   "metadata": {},
   "outputs": [],
   "source": [
    "delta_remdesivir_large <- logistic_med_pop(inpatient, med_remdesivir_age_group, 'delta', pred_rem_large)\n",
    "\n",
    "write.csv(\n",
    "  delta_remdesivir_large$coef, \n",
    "  file.path(results_dir, 'delta_remdesivir_coef_inpatient_large_inpatient.csv')\n",
    ")\n",
    "\n",
    "print.xtable(\n",
    "  delta_remdesivir_large$coef_xtable, \n",
    "  file = file.path(results_dir, 'delta_remdesivir_coef_inpatient_large_inpatient.tex')\n",
    ")\n",
    "\n",
    "print(delta_remdesivir_large$coef_xtable)"
   ]
  },
  {
   "cell_type": "code",
   "execution_count": null,
   "metadata": {},
   "outputs": [],
   "source": [
    "omicron_remdesivir_large <- logistic_med_pop(inpatient, med_remdesivir_age_group, 'omicron', pred_rem_large)\n",
    "\n",
    "write.csv(\n",
    "  omicron_remdesivir_large$coef,\n",
    "  file.path(results_dir, 'omicron_remdesivir_coef_inpatient_large_inpatient.csv')\n",
    ")\n",
    "\n",
    "print.xtable(\n",
    "  omicron_remdesivir_large$coef_xtable, \n",
    "  file = file.path(results_dir, 'omicron_remdesivir_coef_inpatient_large_inpatient.tex')\n",
    ")\n",
    "\n",
    "print(omicron_remdesivir_large$coef_xtable)"
   ]
  },
  {
   "cell_type": "code",
   "execution_count": null,
   "metadata": {},
   "outputs": [],
   "source": [
    "coef_list <- \n",
    "  list(\n",
    "    #wild = wild_remdesivir_large$coef,\n",
    "    dec2020 = dec2020_remdesivir_large$coef, \n",
    "    delta = delta_remdesivir_large$coef, \n",
    "    omicron = omicron_remdesivir_large$coef\n",
    "  )\n",
    "\n",
    "coef_log_df <- \n",
    "  Map(\\(x) tibble::rownames_to_column(as.data.frame(x)), coef_list) |> \n",
    "  bind_rows(.id = 'population') |>\n",
    "  janitor::clean_names()\n",
    "\n",
    "black_log_or <- \n",
    "  coef_log_df |> \n",
    "  dplyr::filter(rowname %in% c('race.factorBlack or African American')) |>\n",
    "  dplyr::mutate(\n",
    "    population = stringr::str_to_title(population),\n",
    "    #population = factor(population, levels = c(\"Wild\", \"Dec2020\", \"Delta\", \"Omicron\"))\n",
    "    population = factor(population, levels = c(\"Dec2020\", \"Delta\", \"Omicron\"))\n",
    "  )"
   ]
  },
  {
   "cell_type": "code",
   "execution_count": null,
   "metadata": {},
   "outputs": [],
   "source": [
    "black_log_or_tab <- \n",
    "  black_log_or |> \n",
    "  dplyr::mutate(\n",
    "    rowname = 'Black or African American',\n",
    "    across(v1:x97_5_percent, ~ round(.x, 4))\n",
    "  ) |>\n",
    "  dplyr::rename(\n",
    "    Estimate = v1,\n",
    "    `2.5%` = x2_5_percent,\n",
    "    `97.5%` = x97_5_percent\n",
    "  ) |>\n",
    "  dplyr::rename(\n",
    "    Wave = population,\n",
    "    Population = rowname\n",
    "  )\n",
    "\n",
    "print.xtable(\n",
    "  xtable::xtable(black_log_or_tab, make.names = FALSE),\n",
    "  type = 'latex', \n",
    "  file = file.path(results_dir, 'adjusted_logistic_or_inpatient.tex'), \n",
    "  include.rownames = FALSE\n",
    ")\n",
    "\n",
    "write.csv(\n",
    "  black_log_or_tab, \n",
    "  file = file.path(results_dir, 'adjusted_logistic_or_inpatient.csv')\n",
    ")"
   ]
  },
  {
   "cell_type": "code",
   "execution_count": null,
   "metadata": {},
   "outputs": [],
   "source": []
  },
  {
   "cell_type": "code",
   "execution_count": null,
   "metadata": {},
   "outputs": [],
   "source": [
    "black_log_or_graph <- \n",
    "  ggplot(black_log_or, aes(x = population, y = v1)) +\n",
    "  geom_hline(yintercept = 1, linetype = 'dashed') +\n",
    "  geom_pointrange(mapping = aes(ymin = x2_5_percent, ymax = x97_5_percent)) +\n",
    "  labs(x = '', y = stringr::str_wrap('Logistic regression OR remdesivir treatment', 35)) + \n",
    "  theme_bw() +\n",
    "  theme(axis.text.x = element_text(colour = 'black', angle = 45, vjust = 0.5, hjust = 1))\n",
    "\n",
    "black_log_or_graph"
   ]
  },
  {
   "cell_type": "code",
   "execution_count": null,
   "metadata": {},
   "outputs": [],
   "source": [
    "black_log_or_graph_short <- black_log_or_graph\n",
    "black_log_or_graph <- black_log_or_graph + ylim(0, NA)\n",
    "\n",
    "\n",
    "ggsave(\n",
    "  plot = black_log_or_graph, \n",
    "  filename = here::here('results', 'adjusted_logistic_regressions_inpatient.pdf'), \n",
    "  width = 4, \n",
    "  height = 4\n",
    ")\n",
    "ggsave(\n",
    "  plot = black_log_or_graph, \n",
    "  filename = here::here('results', 'adjusted_logistic_regressions_inpatient.png'), \n",
    "  width = 4, \n",
    "  height = 4\n",
    ")\n",
    "ggsave(\n",
    "  plot = black_log_or_graph, \n",
    "  filename = here::here('results', 'adjusted_logistic_regressions_inpatient.svg'), \n",
    "  width = 4, \n",
    "  height = 4\n",
    ")\n",
    "\n",
    "ggsave(\n",
    "  plot = black_log_or_graph_short, \n",
    "  filename = here::here('results', 'adjusted_logistic_regressions_short_y_axis_inpatient.pdf'), \n",
    "  width = 4, \n",
    "  height = 4\n",
    ")\n",
    "ggsave(\n",
    "  plot = black_log_or_graph_short, \n",
    "  filename = here::here('results', 'adjusted_logistic_regressions_short_y_axis_inpatient.png'), \n",
    "  width = 4, \n",
    "  height = 4\n",
    ")\n",
    "ggsave(\n",
    "  plot = black_log_or_graph_short, \n",
    "  filename = here::here('results', 'adjusted_logistic_regressions_short_y_axis_inpatient.svg'), \n",
    "  width = 4, \n",
    "  height = 4\n",
    ")"
   ]
  },
  {
   "cell_type": "markdown",
   "metadata": {},
   "source": [
    "## Count regression"
   ]
  },
  {
   "cell_type": "code",
   "execution_count": null,
   "metadata": {},
   "outputs": [],
   "source": [
    "pois_inpatient <- \n",
    "  inpatient %>%  # defined earlier\n",
    "  dplyr::mutate(\n",
    "    los = (encounter_end_age - encounter_start_age) / 60 / 60 / 24,\n",
    "    los = dplyr::if_else(los <= 0, NA_integer64_, los),\n",
    "    los = round(los, 0)\n",
    "  ) %>%\n",
    "  dplyr::filter(!is.na(los)) %>%\n",
    "  dplyr::mutate(los = as.integer(los))  # int64 causes problems with glm\n",
    "\n",
    "\n",
    "pred_rem_large <- c(\"race.factor\",\n",
    "                    \"sex\",\n",
    "                    \"age.years\",\n",
    "                    \"co_diabetes_first_age_in_years\",\n",
    "                    \"co_hypertension_first_age_in_years\",\n",
    "                    \"co_ckd_first_age_in_years\",\n",
    "                    \"co_liver_disease_first_age_in_years\",\n",
    "                    \"co_immunocompromised_first_age_in_years\",\n",
    "                   \"co_cancer_first_age_in_years\")\n",
    "\n",
    "\n",
    "pred_pois <- c(\"race.factor\",\n",
    "               \"sex\",\n",
    "               \"age.years\", \n",
    "               \"co_diabetes_first_age_in_years\", \n",
    "               \"co_hypertension_first_age_in_years\",\n",
    "               \"co_ckd_first_age_in_years\",\n",
    "               \"co_liver_disease_first_age_in_years\",\n",
    "               \"co_immunocompromised_first_age_in_years\",\n",
    "               \"co_cancer_first_age_in_years\"\n",
    "              )\n",
    "\n"
   ]
  },
  {
   "cell_type": "code",
   "execution_count": null,
   "metadata": {},
   "outputs": [],
   "source": [
    "df_reg <- \n",
    "  pois_inpatient %>%\n",
    "  dplyr::filter(!is.na(race)) %>%\n",
    "  dplyr::select(los, dplyr::all_of(pred_pois))\n",
    "\n",
    "overall_mod <- glm(los ~ ., data = df_reg, family = 'poisson')\n",
    "\n",
    "overall_mod\n",
    "\n",
    "summary(overall_mod)\n",
    "\n",
    "overall_tab <- cbind(exp(coef(overall_mod)), exp(confint(overall_mod)))\n",
    "write.csv(overall_tab, file.path(results_dir, 'los_model_overall_inpatient.csv'))\n",
    "\n",
    "overall_tab"
   ]
  },
  {
   "cell_type": "markdown",
   "metadata": {
    "tags": []
   },
   "source": [
    "### count models by wave, comparing poisson to negative binomial regression"
   ]
  },
  {
   "cell_type": "code",
   "execution_count": null,
   "metadata": {},
   "outputs": [],
   "source": [
    "poisson_los_pop <- function(df, which_population, predictors) {\n",
    "    \n",
    "  data <- \n",
    "    df %>%\n",
    "    dplyr::filter(\n",
    "      population == which_population,\n",
    "      !is.na(race)\n",
    "    ) %>%\n",
    "    dplyr::select(los, dplyr::all_of({{ predictors }}))\n",
    "  \n",
    "  mod <- glm(los ~ ., data = data, family = 'poisson')\n",
    "\n",
    "  mod_summary <- summary(mod)\n",
    "\n",
    "  mod_coef <- cbind(exp(coef(mod)), exp(confint(mod)))\n",
    "  mod_coef_xtable <- xtable::xtable(mod_coef)\n",
    "\n",
    "  out <- \n",
    "    list(\n",
    "      mod = mod, \n",
    "      summary = mod_summary, \n",
    "      coef = mod_coef, \n",
    "      coef_xtable = mod_coef_xtable,\n",
    "      aic = AIC(mod)\n",
    "    )\n",
    "\n",
    "  out\n",
    "}"
   ]
  },
  {
   "cell_type": "code",
   "execution_count": null,
   "metadata": {},
   "outputs": [],
   "source": [
    "negbin_los_pop <- function(df, which_population, predictors) {\n",
    "    \n",
    "  data <- \n",
    "    df %>%\n",
    "    dplyr::filter(\n",
    "      population == which_population,\n",
    "      !is.na(race)\n",
    "    ) %>%\n",
    "    dplyr::select(los, dplyr::all_of({{ predictors }}))\n",
    "  \n",
    "  mod <- MASS::glm.nb(los ~ ., data = data)\n",
    "\n",
    "  mod_summary <- summary(mod)\n",
    "\n",
    "  mod_coef <- cbind(exp(coef(mod)), exp(confint(mod)))\n",
    "  mod_coef_xtable <- xtable::xtable(mod_coef)\n",
    "\n",
    "  out <- \n",
    "    list(\n",
    "      mod = mod, \n",
    "      summary = mod_summary, \n",
    "      coef = mod_coef, \n",
    "      coef_xtable = mod_coef_xtable,\n",
    "      aic = AIC(mod)\n",
    "    )\n",
    "\n",
    "  out\n",
    "}"
   ]
  },
  {
   "cell_type": "code",
   "execution_count": null,
   "metadata": {},
   "outputs": [],
   "source": [
    "wild_los_pois_mod <- poisson_los_pop(pois_inpatient, 'wild', pred_pois)\n",
    "wild_los_negbin_mod <- negbin_los_pop(pois_inpatient, 'wild', pred_pois)\n",
    "\n",
    "print(paste0('poisson aic: ', round(wild_los_pois_mod$aic, 2)))\n",
    "print(paste0('neg bin: ', round(wild_los_negbin_mod$aic, 2)))\n",
    "\n",
    "print(wild_los_negbin_mod)"
   ]
  },
  {
   "cell_type": "code",
   "execution_count": null,
   "metadata": {},
   "outputs": [],
   "source": [
    "dec2020_los_pois_mod <- poisson_los_pop(pois_inpatient, 'dec2020', pred_pois)\n",
    "dec2020_los_negbin_mod <- negbin_los_pop(pois_inpatient, 'dec2020', pred_pois)\n",
    "\n",
    "print(paste0('poisson aic: ', round(dec2020_los_pois_mod$aic, 2)))\n",
    "print(paste0('neg bin: ', round(dec2020_los_negbin_mod$aic, 2)))\n",
    "\n",
    "print(dec2020_los_negbin_mod)"
   ]
  },
  {
   "cell_type": "code",
   "execution_count": null,
   "metadata": {},
   "outputs": [],
   "source": [
    "delta_los_pois_mod <- poisson_los_pop(pois_inpatient, 'delta', pred_pois)\n",
    "delta_los_negbin_mod <- negbin_los_pop(pois_inpatient, 'delta', pred_pois)\n",
    "\n",
    "print(paste0('poisson aic: ', round(delta_los_pois_mod$aic, 2)))\n",
    "print(paste0('neg bin: ', round(delta_los_negbin_mod$aic, 2)))\n",
    "\n",
    "print(delta_los_negbin_mod)"
   ]
  },
  {
   "cell_type": "code",
   "execution_count": null,
   "metadata": {},
   "outputs": [],
   "source": [
    "omicron_los_pois_mod <- poisson_los_pop(pois_inpatient, 'omicron', pred_pois)\n",
    "omicron_los_negbin_mod <- negbin_los_pop(pois_inpatient, 'omicron', pred_pois)\n",
    "\n",
    "print(paste0('poisson aic: ', round(omicron_los_pois_mod$aic, 2)))\n",
    "print(paste0('neg bin: ', round(omicron_los_negbin_mod$aic, 2)))\n",
    "\n",
    "print(omicron_los_negbin_mod)"
   ]
  },
  {
   "cell_type": "code",
   "execution_count": null,
   "metadata": {},
   "outputs": [],
   "source": [
    "coef_list <- \n",
    "  list(\n",
    "    wild = wild_los_negbin_mod$coef,\n",
    "    dec2020 = dec2020_los_negbin_mod$coef, \n",
    "    delta = delta_los_negbin_mod$coef, \n",
    "    omicron = omicron_los_negbin_mod$coef\n",
    "  )\n",
    "\n",
    "coef_nb_df <- \n",
    "  Map(\\(x) tibble::rownames_to_column(as.data.frame(x)), coef_list) |> \n",
    "  bind_rows(.id = 'population') |>\n",
    "  janitor::clean_names()\n",
    "\n",
    "black_nb_rr <- \n",
    "  coef_nb_df |> \n",
    "  dplyr::filter(rowname %in% c('race.factorBlack or African American')) |>\n",
    "  dplyr::mutate(\n",
    "    population = stringr::str_to_title(population),\n",
    "    population = factor(population, levels = c(\"Wild\", \"Dec2020\", \"Delta\", \"Omicron\"))\n",
    "  )"
   ]
  },
  {
   "cell_type": "code",
   "execution_count": null,
   "metadata": {},
   "outputs": [],
   "source": [
    "black_nb_rr_tab <- \n",
    "  black_nb_rr |> \n",
    "  dplyr::mutate(\n",
    "    rowname = 'Black or African American',\n",
    "    across(v1:x97_5_percent, ~ round(.x, 4))\n",
    "  ) |>\n",
    "  dplyr::rename(\n",
    "    Estimate = v1,\n",
    "    `2.5%` = x2_5_percent,\n",
    "    `97.5%` = x97_5_percent\n",
    "  ) |>\n",
    "  dplyr::rename(\n",
    "    Wave = population,\n",
    "    Population = rowname\n",
    "  )\n",
    "\n",
    "print.xtable(\n",
    "  xtable::xtable(black_nb_rr_tab, make.names = FALSE),\n",
    "  type = 'latex', \n",
    "  file = file.path(results_dir, 'adjusted_NB_rr_inpatient.tex'), \n",
    "  include.rownames = FALSE\n",
    ")\n",
    "\n",
    "write.csv(\n",
    "  black_nb_rr_tab, \n",
    "  file = file.path(results_dir, 'adjusted_NB_rr_inpatient.csv')\n",
    ")"
   ]
  },
  {
   "cell_type": "code",
   "execution_count": null,
   "metadata": {},
   "outputs": [],
   "source": [
    "black_nb_rr_graph <- \n",
    "  ggplot(black_nb_rr, aes(x = population, y = v1)) +\n",
    "  geom_hline(yintercept = 1, linetype = 'dashed') +\n",
    "  geom_pointrange(mapping = aes(ymin = x2_5_percent, ymax = x97_5_percent)) +\n",
    "  labs(x = '', y = stringr::str_wrap('NB regression IRR length of stay', 35)) + \n",
    "  theme_bw() +\n",
    "  theme(axis.text.x = element_text(colour = 'black', angle = 45, vjust = 0.5, hjust = 1))\n",
    "\n",
    "black_nb_rr_graph_short <- black_nb_rr_graph\n",
    "black_nb_rr_graph <- black_nb_rr_graph + ylim(0, NA)\n",
    "\n",
    "\n",
    "\n",
    "ggsave(\n",
    "  plot = black_nb_rr_graph, \n",
    "  filename = here::here('results', 'adjusted_NB_regressions_inpatient.pdf'), \n",
    "  width = 4, \n",
    "  height = 4\n",
    ")\n",
    "ggsave(\n",
    "  plot = black_nb_rr_graph, \n",
    "  filename = here::here('results', 'adjusted_NB_regressions_inpatient.png'), \n",
    "  width = 4, \n",
    "  height = 4\n",
    ")\n",
    "ggsave(\n",
    "  plot = black_nb_rr_graph, \n",
    "  filename = here::here('results', 'adjusted_NB_regressions_inpatient.svg'), \n",
    "  width = 4, \n",
    "  height = 4\n",
    ")\n",
    "\n",
    "ggsave(\n",
    "  plot = black_nb_rr_graph_short, \n",
    "  filename = here::here('results', 'adjusted_NB_regressions_short_y_axis_inpatient.pdf'), \n",
    "  width = 4, \n",
    "  height = 4\n",
    ")\n",
    "ggsave(\n",
    "  plot = black_nb_rr_graph_short, \n",
    "  filename = here::here('results', 'adjusted_NB_regressions_short_y_axis_inpatient.png'), \n",
    "  width = 4, \n",
    "  height = 4\n",
    ")\n",
    "ggsave(\n",
    "  plot = black_nb_rr_graph_short, \n",
    "  filename = here::here('results', 'adjusted_NB_regressions_short_y_axis_inpatient.svg'), \n",
    "  width = 4, \n",
    "  height = 4\n",
    ")"
   ]
  },
  {
   "cell_type": "markdown",
   "metadata": {},
   "source": [
    "### reg result composite graph"
   ]
  },
  {
   "cell_type": "code",
   "execution_count": null,
   "metadata": {},
   "outputs": [],
   "source": [
    "patchwork <- \n",
    "  ( black_log_or_graph + black_log_or_graph_short ) /\n",
    "  ( black_nb_rr_graph + black_nb_rr_graph_short )\n",
    "\n",
    "patchwork <- \n",
    "  patchwork + plot_annotation(tag_levels = 'A')\n",
    "\n",
    "patchwork\n",
    "\n",
    "ggsave(\n",
    "  plot = patchwork,\n",
    "  filename = here::here('results', 'regression_results_composite_inpatient.png'), \n",
    "  width = 6, \n",
    "  height = 6\n",
    ")\n",
    "ggsave(\n",
    "  plot = patchwork,\n",
    "  filename = here::here('results', 'regression_results_composite_inpatient.svg'), \n",
    "  width = 6, \n",
    "  height = 6\n",
    ")\n",
    "ggsave(\n",
    "  plot = patchwork,\n",
    "  filename = here::here('results', 'regression_results_composite_inpatient.pdf'), \n",
    "  width = 6, \n",
    "  height = 6\n",
    ")"
   ]
  },
  {
   "cell_type": "code",
   "execution_count": null,
   "metadata": {},
   "outputs": [],
   "source": []
  },
  {
   "cell_type": "code",
   "execution_count": null,
   "metadata": {},
   "outputs": [],
   "source": []
  },
  {
   "cell_type": "code",
   "execution_count": null,
   "metadata": {},
   "outputs": [],
   "source": [
    "# ---- AIC comparison table\n",
    "\n",
    "aic_tab <- \n",
    "  tibble(\n",
    "    Population = c('Dec2020', 'Delta', 'Omicron'),\n",
    "    AIC_poisson = c(dec2020_los_pois_mod$aic, delta_los_pois_mod$aic, omicron_los_pois_mod$aic),\n",
    "    AIC_nb = c(dec2020_los_negbin_mod$aic, delta_los_negbin_mod$aic, omicron_los_negbin_mod$aic)\n",
    "  ) |>\n",
    "  dplyr::mutate(\n",
    "    delta_aic = AIC_nb - AIC_poisson,\n",
    "    across(c(AIC_poisson, AIC_nb, delta_aic), ~ round(.x, 2))\n",
    "  ) |>\n",
    "  dplyr::rename(`AIC Poisson` = AIC_poisson, `AIC NB` = AIC_nb, `Delta AIC` = delta_aic)\n",
    "\n",
    "aic_tab\n",
    "\n",
    "write.csv(aic_tab, file = file.path(results_dir, 'aic_table_inpatient.csv'))\n",
    "\n",
    "print.xtable(\n",
    "  xtable::xtable(aic_tab, make.names = FALSE),\n",
    "  type = 'latex', \n",
    "  file = file.path(results_dir, 'aic_table_inpatient.tex'), \n",
    "  include.rownames = FALSE\n",
    ")"
   ]
  },
  {
   "cell_type": "code",
   "execution_count": null,
   "metadata": {},
   "outputs": [],
   "source": [
    "# ------ citations ------"
   ]
  },
  {
   "cell_type": "code",
   "execution_count": null,
   "metadata": {},
   "outputs": [],
   "source": [
    "R.Version()\n",
    "citation()\n",
    "\n",
    "citation('dplyr')\n",
    "citation('ggplot2')\n",
    "citation('gtools')\n",
    "citation('MASS')\n",
    "citation('xtable')\n",
    "citation('bit64')\n",
    "citation('scales')"
   ]
  },
  {
   "cell_type": "code",
   "execution_count": null,
   "metadata": {},
   "outputs": [],
   "source": []
  }
 ],
 "metadata": {
  "interpreter": {
   "hash": "e69c64f7dd2bcef6fb87fc79310aa585ec4fd993d113aeceac6e89e24d86c3a6"
  },
  "kernelspec": {
   "display_name": "R",
   "language": "R",
   "name": "ir"
  },
  "language_info": {
   "codemirror_mode": "r",
   "file_extension": ".r",
   "mimetype": "text/x-r-source",
   "name": "R",
   "pygments_lexer": "r",
   "version": "4.1.3"
  }
 },
 "nbformat": 4,
 "nbformat_minor": 4
}
